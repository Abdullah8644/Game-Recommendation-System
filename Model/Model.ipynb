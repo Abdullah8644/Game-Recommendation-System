{
 "cells": [
  {
   "cell_type": "markdown",
   "metadata": {},
   "source": [
    "# Loading Models"
   ]
  },
  {
   "cell_type": "code",
   "execution_count": 2,
   "metadata": {},
   "outputs": [],
   "source": [
    "import pandas as pd\n",
    "import numpy as np\n",
    "import matplotlib.pyplot as plt\n",
    "import seaborn as sns"
   ]
  },
  {
   "cell_type": "markdown",
   "metadata": {},
   "source": [
    "# Loading Data"
   ]
  },
  {
   "cell_type": "code",
   "execution_count": 3,
   "metadata": {},
   "outputs": [],
   "source": [
    "games=pd.read_csv(\"Play_Store_Games_Data.csv\")"
   ]
  },
  {
   "cell_type": "markdown",
   "metadata": {},
   "source": [
    "# Modeling Data"
   ]
  },
  {
   "cell_type": "code",
   "execution_count": 4,
   "metadata": {},
   "outputs": [
    {
     "data": {
      "text/html": [
       "<div>\n",
       "<style scoped>\n",
       "    .dataframe tbody tr th:only-of-type {\n",
       "        vertical-align: middle;\n",
       "    }\n",
       "\n",
       "    .dataframe tbody tr th {\n",
       "        vertical-align: top;\n",
       "    }\n",
       "\n",
       "    .dataframe thead th {\n",
       "        text-align: right;\n",
       "    }\n",
       "</style>\n",
       "<table border=\"1\" class=\"dataframe\">\n",
       "  <thead>\n",
       "    <tr style=\"text-align: right;\">\n",
       "      <th></th>\n",
       "      <th>title</th>\n",
       "      <th>downloads</th>\n",
       "      <th>rating</th>\n",
       "      <th>reviews</th>\n",
       "      <th>tags</th>\n",
       "      <th>description</th>\n",
       "      <th>link</th>\n",
       "      <th>img</th>\n",
       "      <th>last_update</th>\n",
       "    </tr>\n",
       "  </thead>\n",
       "  <tbody>\n",
       "    <tr>\n",
       "      <th>0</th>\n",
       "      <td>Passenger Delivery</td>\n",
       "      <td>10K+</td>\n",
       "      <td>0.0 star</td>\n",
       "      <td>0 reviews</td>\n",
       "      <td>Racing</td>\n",
       "      <td>Pick up and deliver passengers to their destin...</td>\n",
       "      <td>https://play.google.com/store/apps/details?id=...</td>\n",
       "      <td>https://play-lh.googleusercontent.com/yukxToYM...</td>\n",
       "      <td>26-Sep-23</td>\n",
       "    </tr>\n",
       "    <tr>\n",
       "      <th>1</th>\n",
       "      <td>TSM</td>\n",
       "      <td>50M+</td>\n",
       "      <td>4.2star</td>\n",
       "      <td>1.64M reviews</td>\n",
       "      <td>Simulation,Life,Social,Casual,Single player,St...</td>\n",
       "      <td>Read on for important info below!</td>\n",
       "      <td>https://play.google.com/store/apps/details?id=...</td>\n",
       "      <td>https://play-lh.googleusercontent.com/RWzip8X5...</td>\n",
       "      <td>23-Sep-24</td>\n",
       "    </tr>\n",
       "    <tr>\n",
       "      <th>2</th>\n",
       "      <td>Dinosaurs Puzzles for Kids</td>\n",
       "      <td>1M+</td>\n",
       "      <td>3.7star</td>\n",
       "      <td>461 reviews</td>\n",
       "      <td>Entertainment</td>\n",
       "      <td>A fun application for activities matching both...</td>\n",
       "      <td>https://play.google.com/store/apps/details?id=...</td>\n",
       "      <td>https://play-lh.googleusercontent.com/I7pIr1Ry...</td>\n",
       "      <td>5-Sep-24</td>\n",
       "    </tr>\n",
       "  </tbody>\n",
       "</table>\n",
       "</div>"
      ],
      "text/plain": [
       "                        title downloads    rating        reviews  \\\n",
       "0          Passenger Delivery      10K+  0.0 star      0 reviews   \n",
       "1                         TSM      50M+   4.2star  1.64M reviews   \n",
       "2  Dinosaurs Puzzles for Kids       1M+   3.7star    461 reviews   \n",
       "\n",
       "                                                tags  \\\n",
       "0                                             Racing   \n",
       "1  Simulation,Life,Social,Casual,Single player,St...   \n",
       "2                                      Entertainment   \n",
       "\n",
       "                                         description  \\\n",
       "0  Pick up and deliver passengers to their destin...   \n",
       "1                  Read on for important info below!   \n",
       "2  A fun application for activities matching both...   \n",
       "\n",
       "                                                link  \\\n",
       "0  https://play.google.com/store/apps/details?id=...   \n",
       "1  https://play.google.com/store/apps/details?id=...   \n",
       "2  https://play.google.com/store/apps/details?id=...   \n",
       "\n",
       "                                                 img last_update  \n",
       "0  https://play-lh.googleusercontent.com/yukxToYM...   26-Sep-23  \n",
       "1  https://play-lh.googleusercontent.com/RWzip8X5...   23-Sep-24  \n",
       "2  https://play-lh.googleusercontent.com/I7pIr1Ry...    5-Sep-24  "
      ]
     },
     "execution_count": 4,
     "metadata": {},
     "output_type": "execute_result"
    }
   ],
   "source": [
    "games.head(3)"
   ]
  },
  {
   "cell_type": "code",
   "execution_count": 5,
   "metadata": {},
   "outputs": [
    {
     "name": "stdout",
     "output_type": "stream",
     "text": [
      "<class 'pandas.core.frame.DataFrame'>\n",
      "RangeIndex: 4803 entries, 0 to 4802\n",
      "Data columns (total 9 columns):\n",
      " #   Column       Non-Null Count  Dtype \n",
      "---  ------       --------------  ----- \n",
      " 0   title        4798 non-null   object\n",
      " 1   downloads    4784 non-null   object\n",
      " 2   rating       4798 non-null   object\n",
      " 3   reviews      4798 non-null   object\n",
      " 4   tags         4798 non-null   object\n",
      " 5   description  4798 non-null   object\n",
      " 6   link         4803 non-null   object\n",
      " 7   img          4798 non-null   object\n",
      " 8   last_update  4798 non-null   object\n",
      "dtypes: object(9)\n",
      "memory usage: 337.8+ KB\n"
     ]
    }
   ],
   "source": [
    "games.info()"
   ]
  },
  {
   "cell_type": "code",
   "execution_count": 6,
   "metadata": {},
   "outputs": [],
   "source": [
    "# title  tags  description link  img  "
   ]
  },
  {
   "cell_type": "code",
   "execution_count": 7,
   "metadata": {},
   "outputs": [],
   "source": [
    "data=games[[\"title\" , \"tags\" , \"description\" ,\"link\", \"img\"]]"
   ]
  },
  {
   "cell_type": "code",
   "execution_count": 8,
   "metadata": {},
   "outputs": [
    {
     "data": {
      "text/html": [
       "<div>\n",
       "<style scoped>\n",
       "    .dataframe tbody tr th:only-of-type {\n",
       "        vertical-align: middle;\n",
       "    }\n",
       "\n",
       "    .dataframe tbody tr th {\n",
       "        vertical-align: top;\n",
       "    }\n",
       "\n",
       "    .dataframe thead th {\n",
       "        text-align: right;\n",
       "    }\n",
       "</style>\n",
       "<table border=\"1\" class=\"dataframe\">\n",
       "  <thead>\n",
       "    <tr style=\"text-align: right;\">\n",
       "      <th></th>\n",
       "      <th>title</th>\n",
       "      <th>tags</th>\n",
       "      <th>description</th>\n",
       "      <th>link</th>\n",
       "      <th>img</th>\n",
       "    </tr>\n",
       "  </thead>\n",
       "  <tbody>\n",
       "    <tr>\n",
       "      <th>0</th>\n",
       "      <td>Passenger Delivery</td>\n",
       "      <td>Racing</td>\n",
       "      <td>Pick up and deliver passengers to their destin...</td>\n",
       "      <td>https://play.google.com/store/apps/details?id=...</td>\n",
       "      <td>https://play-lh.googleusercontent.com/yukxToYM...</td>\n",
       "    </tr>\n",
       "  </tbody>\n",
       "</table>\n",
       "</div>"
      ],
      "text/plain": [
       "                title    tags  \\\n",
       "0  Passenger Delivery  Racing   \n",
       "\n",
       "                                         description  \\\n",
       "0  Pick up and deliver passengers to their destin...   \n",
       "\n",
       "                                                link  \\\n",
       "0  https://play.google.com/store/apps/details?id=...   \n",
       "\n",
       "                                                 img  \n",
       "0  https://play-lh.googleusercontent.com/yukxToYM...  "
      ]
     },
     "execution_count": 8,
     "metadata": {},
     "output_type": "execute_result"
    }
   ],
   "source": [
    "data.head(1)"
   ]
  },
  {
   "cell_type": "code",
   "execution_count": null,
   "metadata": {},
   "outputs": [],
   "source": []
  },
  {
   "cell_type": "code",
   "execution_count": 9,
   "metadata": {},
   "outputs": [
    {
     "data": {
      "text/plain": [
       "title          5\n",
       "tags           5\n",
       "description    5\n",
       "link           0\n",
       "img            5\n",
       "dtype: int64"
      ]
     },
     "execution_count": 9,
     "metadata": {},
     "output_type": "execute_result"
    }
   ],
   "source": [
    "data.isnull().sum()"
   ]
  },
  {
   "cell_type": "code",
   "execution_count": 10,
   "metadata": {},
   "outputs": [
    {
     "name": "stderr",
     "output_type": "stream",
     "text": [
      "C:\\Users\\abdul\\AppData\\Local\\Temp\\ipykernel_5412\\1368182302.py:1: SettingWithCopyWarning: \n",
      "A value is trying to be set on a copy of a slice from a DataFrame\n",
      "\n",
      "See the caveats in the documentation: https://pandas.pydata.org/pandas-docs/stable/user_guide/indexing.html#returning-a-view-versus-a-copy\n",
      "  data.dropna(inplace=True)\n"
     ]
    }
   ],
   "source": [
    "data.dropna(inplace=True)"
   ]
  },
  {
   "cell_type": "code",
   "execution_count": 11,
   "metadata": {},
   "outputs": [
    {
     "data": {
      "text/plain": [
       "np.int64(0)"
      ]
     },
     "execution_count": 11,
     "metadata": {},
     "output_type": "execute_result"
    }
   ],
   "source": [
    "data.duplicated().sum()"
   ]
  },
  {
   "cell_type": "code",
   "execution_count": 12,
   "metadata": {},
   "outputs": [
    {
     "data": {
      "text/plain": [
       "'Action,Shooter,Casual,Single player,Stylized,Battling,Fantasy,Sci-fi fantasy'"
      ]
     },
     "execution_count": 12,
     "metadata": {},
     "output_type": "execute_result"
    }
   ],
   "source": [
    "data.iloc[6].tags"
   ]
  },
  {
   "cell_type": "code",
   "execution_count": null,
   "metadata": {},
   "outputs": [],
   "source": []
  },
  {
   "cell_type": "code",
   "execution_count": 13,
   "metadata": {},
   "outputs": [],
   "source": [
    "def split_tags(x):\n",
    "    if type(x) == str:\n",
    "        return x.split(\",\")"
   ]
  },
  {
   "cell_type": "code",
   "execution_count": 14,
   "metadata": {},
   "outputs": [
    {
     "name": "stderr",
     "output_type": "stream",
     "text": [
      "C:\\Users\\abdul\\AppData\\Local\\Temp\\ipykernel_5412\\2306613167.py:1: SettingWithCopyWarning: \n",
      "A value is trying to be set on a copy of a slice from a DataFrame.\n",
      "Try using .loc[row_indexer,col_indexer] = value instead\n",
      "\n",
      "See the caveats in the documentation: https://pandas.pydata.org/pandas-docs/stable/user_guide/indexing.html#returning-a-view-versus-a-copy\n",
      "  data[\"tags\"]=data[\"tags\"].apply(split_tags)\n"
     ]
    }
   ],
   "source": [
    "data[\"tags\"]=data[\"tags\"].apply(split_tags)"
   ]
  },
  {
   "cell_type": "code",
   "execution_count": 15,
   "metadata": {},
   "outputs": [
    {
     "name": "stderr",
     "output_type": "stream",
     "text": [
      "C:\\Users\\abdul\\AppData\\Local\\Temp\\ipykernel_5412\\2319095216.py:1: SettingWithCopyWarning: \n",
      "A value is trying to be set on a copy of a slice from a DataFrame.\n",
      "Try using .loc[row_indexer,col_indexer] = value instead\n",
      "\n",
      "See the caveats in the documentation: https://pandas.pydata.org/pandas-docs/stable/user_guide/indexing.html#returning-a-view-versus-a-copy\n",
      "  data[\"description\"]=data[\"description\"].apply(lambda x:x.split())\n"
     ]
    }
   ],
   "source": [
    "data[\"description\"]=data[\"description\"].apply(lambda x:x.split())"
   ]
  },
  {
   "cell_type": "code",
   "execution_count": 16,
   "metadata": {},
   "outputs": [
    {
     "data": {
      "text/html": [
       "<div>\n",
       "<style scoped>\n",
       "    .dataframe tbody tr th:only-of-type {\n",
       "        vertical-align: middle;\n",
       "    }\n",
       "\n",
       "    .dataframe tbody tr th {\n",
       "        vertical-align: top;\n",
       "    }\n",
       "\n",
       "    .dataframe thead th {\n",
       "        text-align: right;\n",
       "    }\n",
       "</style>\n",
       "<table border=\"1\" class=\"dataframe\">\n",
       "  <thead>\n",
       "    <tr style=\"text-align: right;\">\n",
       "      <th></th>\n",
       "      <th>title</th>\n",
       "      <th>tags</th>\n",
       "      <th>description</th>\n",
       "      <th>link</th>\n",
       "      <th>img</th>\n",
       "    </tr>\n",
       "  </thead>\n",
       "  <tbody>\n",
       "    <tr>\n",
       "      <th>0</th>\n",
       "      <td>Passenger Delivery</td>\n",
       "      <td>[Racing]</td>\n",
       "      <td>[Pick, up, and, deliver, passengers, to, their...</td>\n",
       "      <td>https://play.google.com/store/apps/details?id=...</td>\n",
       "      <td>https://play-lh.googleusercontent.com/yukxToYM...</td>\n",
       "    </tr>\n",
       "    <tr>\n",
       "      <th>1</th>\n",
       "      <td>TSM</td>\n",
       "      <td>[Simulation, Life, Social, Casual, Single play...</td>\n",
       "      <td>[Read, on, for, important, info, below!]</td>\n",
       "      <td>https://play.google.com/store/apps/details?id=...</td>\n",
       "      <td>https://play-lh.googleusercontent.com/RWzip8X5...</td>\n",
       "    </tr>\n",
       "  </tbody>\n",
       "</table>\n",
       "</div>"
      ],
      "text/plain": [
       "                title                                               tags  \\\n",
       "0  Passenger Delivery                                           [Racing]   \n",
       "1                 TSM  [Simulation, Life, Social, Casual, Single play...   \n",
       "\n",
       "                                         description  \\\n",
       "0  [Pick, up, and, deliver, passengers, to, their...   \n",
       "1           [Read, on, for, important, info, below!]   \n",
       "\n",
       "                                                link  \\\n",
       "0  https://play.google.com/store/apps/details?id=...   \n",
       "1  https://play.google.com/store/apps/details?id=...   \n",
       "\n",
       "                                                 img  \n",
       "0  https://play-lh.googleusercontent.com/yukxToYM...  \n",
       "1  https://play-lh.googleusercontent.com/RWzip8X5...  "
      ]
     },
     "execution_count": 16,
     "metadata": {},
     "output_type": "execute_result"
    }
   ],
   "source": [
    "data.head(2)"
   ]
  },
  {
   "cell_type": "code",
   "execution_count": 17,
   "metadata": {},
   "outputs": [
    {
     "name": "stderr",
     "output_type": "stream",
     "text": [
      "C:\\Users\\abdul\\AppData\\Local\\Temp\\ipykernel_5412\\3182789275.py:1: SettingWithCopyWarning: \n",
      "A value is trying to be set on a copy of a slice from a DataFrame.\n",
      "Try using .loc[row_indexer,col_indexer] = value instead\n",
      "\n",
      "See the caveats in the documentation: https://pandas.pydata.org/pandas-docs/stable/user_guide/indexing.html#returning-a-view-versus-a-copy\n",
      "  data[\"tags\"]=data[\"tags\"].apply(lambda x:[i.replace(\" \", \"\") for i in x])\n",
      "C:\\Users\\abdul\\AppData\\Local\\Temp\\ipykernel_5412\\3182789275.py:2: SettingWithCopyWarning: \n",
      "A value is trying to be set on a copy of a slice from a DataFrame.\n",
      "Try using .loc[row_indexer,col_indexer] = value instead\n",
      "\n",
      "See the caveats in the documentation: https://pandas.pydata.org/pandas-docs/stable/user_guide/indexing.html#returning-a-view-versus-a-copy\n",
      "  data[\"description\"]=data[\"description\"].apply(lambda x:[i.replace(\" \", \"\") for i in x])\n"
     ]
    }
   ],
   "source": [
    "data[\"tags\"]=data[\"tags\"].apply(lambda x:[i.replace(\" \", \"\") for i in x])\n",
    "data[\"description\"]=data[\"description\"].apply(lambda x:[i.replace(\" \", \"\") for i in x])\n"
   ]
  },
  {
   "cell_type": "code",
   "execution_count": 18,
   "metadata": {},
   "outputs": [
    {
     "data": {
      "text/html": [
       "<div>\n",
       "<style scoped>\n",
       "    .dataframe tbody tr th:only-of-type {\n",
       "        vertical-align: middle;\n",
       "    }\n",
       "\n",
       "    .dataframe tbody tr th {\n",
       "        vertical-align: top;\n",
       "    }\n",
       "\n",
       "    .dataframe thead th {\n",
       "        text-align: right;\n",
       "    }\n",
       "</style>\n",
       "<table border=\"1\" class=\"dataframe\">\n",
       "  <thead>\n",
       "    <tr style=\"text-align: right;\">\n",
       "      <th></th>\n",
       "      <th>title</th>\n",
       "      <th>tags</th>\n",
       "      <th>description</th>\n",
       "      <th>link</th>\n",
       "      <th>img</th>\n",
       "    </tr>\n",
       "  </thead>\n",
       "  <tbody>\n",
       "    <tr>\n",
       "      <th>0</th>\n",
       "      <td>Passenger Delivery</td>\n",
       "      <td>[Racing]</td>\n",
       "      <td>[Pick, up, and, deliver, passengers, to, their...</td>\n",
       "      <td>https://play.google.com/store/apps/details?id=...</td>\n",
       "      <td>https://play-lh.googleusercontent.com/yukxToYM...</td>\n",
       "    </tr>\n",
       "    <tr>\n",
       "      <th>1</th>\n",
       "      <td>TSM</td>\n",
       "      <td>[Simulation, Life, Social, Casual, Singleplaye...</td>\n",
       "      <td>[Read, on, for, important, info, below!]</td>\n",
       "      <td>https://play.google.com/store/apps/details?id=...</td>\n",
       "      <td>https://play-lh.googleusercontent.com/RWzip8X5...</td>\n",
       "    </tr>\n",
       "    <tr>\n",
       "      <th>2</th>\n",
       "      <td>Dinosaurs Puzzles for Kids</td>\n",
       "      <td>[Entertainment]</td>\n",
       "      <td>[A, fun, application, for, activities, matchin...</td>\n",
       "      <td>https://play.google.com/store/apps/details?id=...</td>\n",
       "      <td>https://play-lh.googleusercontent.com/I7pIr1Ry...</td>\n",
       "    </tr>\n",
       "  </tbody>\n",
       "</table>\n",
       "</div>"
      ],
      "text/plain": [
       "                        title  \\\n",
       "0          Passenger Delivery   \n",
       "1                         TSM   \n",
       "2  Dinosaurs Puzzles for Kids   \n",
       "\n",
       "                                                tags  \\\n",
       "0                                           [Racing]   \n",
       "1  [Simulation, Life, Social, Casual, Singleplaye...   \n",
       "2                                    [Entertainment]   \n",
       "\n",
       "                                         description  \\\n",
       "0  [Pick, up, and, deliver, passengers, to, their...   \n",
       "1           [Read, on, for, important, info, below!]   \n",
       "2  [A, fun, application, for, activities, matchin...   \n",
       "\n",
       "                                                link  \\\n",
       "0  https://play.google.com/store/apps/details?id=...   \n",
       "1  https://play.google.com/store/apps/details?id=...   \n",
       "2  https://play.google.com/store/apps/details?id=...   \n",
       "\n",
       "                                                 img  \n",
       "0  https://play-lh.googleusercontent.com/yukxToYM...  \n",
       "1  https://play-lh.googleusercontent.com/RWzip8X5...  \n",
       "2  https://play-lh.googleusercontent.com/I7pIr1Ry...  "
      ]
     },
     "execution_count": 18,
     "metadata": {},
     "output_type": "execute_result"
    }
   ],
   "source": [
    "data.head(3)"
   ]
  },
  {
   "cell_type": "code",
   "execution_count": null,
   "metadata": {},
   "outputs": [],
   "source": []
  },
  {
   "cell_type": "code",
   "execution_count": 19,
   "metadata": {},
   "outputs": [
    {
     "name": "stderr",
     "output_type": "stream",
     "text": [
      "C:\\Users\\abdul\\AppData\\Local\\Temp\\ipykernel_5412\\2589829594.py:1: SettingWithCopyWarning: \n",
      "A value is trying to be set on a copy of a slice from a DataFrame.\n",
      "Try using .loc[row_indexer,col_indexer] = value instead\n",
      "\n",
      "See the caveats in the documentation: https://pandas.pydata.org/pandas-docs/stable/user_guide/indexing.html#returning-a-view-versus-a-copy\n",
      "  data[\"tags\"]=data[\"tags\"]+data[\"description\"]\n"
     ]
    }
   ],
   "source": [
    "data[\"tags\"]=data[\"tags\"]+data[\"description\"]"
   ]
  },
  {
   "cell_type": "code",
   "execution_count": 20,
   "metadata": {},
   "outputs": [
    {
     "name": "stderr",
     "output_type": "stream",
     "text": [
      "C:\\Users\\abdul\\AppData\\Local\\Temp\\ipykernel_5412\\1581817962.py:1: SettingWithCopyWarning: \n",
      "A value is trying to be set on a copy of a slice from a DataFrame.\n",
      "Try using .loc[row_indexer,col_indexer] = value instead\n",
      "\n",
      "See the caveats in the documentation: https://pandas.pydata.org/pandas-docs/stable/user_guide/indexing.html#returning-a-view-versus-a-copy\n",
      "  data[\"tags\"]=data[\"tags\"].apply(lambda x:\" \".join(x))\n"
     ]
    }
   ],
   "source": [
    "data[\"tags\"]=data[\"tags\"].apply(lambda x:\" \".join(x))"
   ]
  },
  {
   "cell_type": "code",
   "execution_count": 21,
   "metadata": {},
   "outputs": [
    {
     "data": {
      "text/html": [
       "<div>\n",
       "<style scoped>\n",
       "    .dataframe tbody tr th:only-of-type {\n",
       "        vertical-align: middle;\n",
       "    }\n",
       "\n",
       "    .dataframe tbody tr th {\n",
       "        vertical-align: top;\n",
       "    }\n",
       "\n",
       "    .dataframe thead th {\n",
       "        text-align: right;\n",
       "    }\n",
       "</style>\n",
       "<table border=\"1\" class=\"dataframe\">\n",
       "  <thead>\n",
       "    <tr style=\"text-align: right;\">\n",
       "      <th></th>\n",
       "      <th>title</th>\n",
       "      <th>tags</th>\n",
       "      <th>description</th>\n",
       "      <th>link</th>\n",
       "      <th>img</th>\n",
       "    </tr>\n",
       "  </thead>\n",
       "  <tbody>\n",
       "    <tr>\n",
       "      <th>0</th>\n",
       "      <td>Passenger Delivery</td>\n",
       "      <td>Racing Pick up and deliver passengers to their...</td>\n",
       "      <td>[Pick, up, and, deliver, passengers, to, their...</td>\n",
       "      <td>https://play.google.com/store/apps/details?id=...</td>\n",
       "      <td>https://play-lh.googleusercontent.com/yukxToYM...</td>\n",
       "    </tr>\n",
       "    <tr>\n",
       "      <th>1</th>\n",
       "      <td>TSM</td>\n",
       "      <td>Simulation Life Social Casual Singleplayer Sty...</td>\n",
       "      <td>[Read, on, for, important, info, below!]</td>\n",
       "      <td>https://play.google.com/store/apps/details?id=...</td>\n",
       "      <td>https://play-lh.googleusercontent.com/RWzip8X5...</td>\n",
       "    </tr>\n",
       "    <tr>\n",
       "      <th>2</th>\n",
       "      <td>Dinosaurs Puzzles for Kids</td>\n",
       "      <td>Entertainment A fun application for activities...</td>\n",
       "      <td>[A, fun, application, for, activities, matchin...</td>\n",
       "      <td>https://play.google.com/store/apps/details?id=...</td>\n",
       "      <td>https://play-lh.googleusercontent.com/I7pIr1Ry...</td>\n",
       "    </tr>\n",
       "    <tr>\n",
       "      <th>3</th>\n",
       "      <td>Topps Total Football®</td>\n",
       "      <td>Card Cardbattler Casual Multiplayer Competitiv...</td>\n",
       "      <td>[Discover, a, world, where, you, can, collect,...</td>\n",
       "      <td>https://play.google.com/store/apps/details?id=...</td>\n",
       "      <td>https://play-lh.googleusercontent.com/QvCQJhwm...</td>\n",
       "    </tr>\n",
       "    <tr>\n",
       "      <th>4</th>\n",
       "      <td>Merge Planes Idle Plane Game</td>\n",
       "      <td>Puzzle Merge Casual Singleplayer Stylized Offl...</td>\n",
       "      <td>[Start, with, a, free, Plane, in, your, centra...</td>\n",
       "      <td>https://play.google.com/store/apps/details?id=...</td>\n",
       "      <td>https://play-lh.googleusercontent.com/cviX32mT...</td>\n",
       "    </tr>\n",
       "  </tbody>\n",
       "</table>\n",
       "</div>"
      ],
      "text/plain": [
       "                          title  \\\n",
       "0            Passenger Delivery   \n",
       "1                           TSM   \n",
       "2    Dinosaurs Puzzles for Kids   \n",
       "3         Topps Total Football®   \n",
       "4  Merge Planes Idle Plane Game   \n",
       "\n",
       "                                                tags  \\\n",
       "0  Racing Pick up and deliver passengers to their...   \n",
       "1  Simulation Life Social Casual Singleplayer Sty...   \n",
       "2  Entertainment A fun application for activities...   \n",
       "3  Card Cardbattler Casual Multiplayer Competitiv...   \n",
       "4  Puzzle Merge Casual Singleplayer Stylized Offl...   \n",
       "\n",
       "                                         description  \\\n",
       "0  [Pick, up, and, deliver, passengers, to, their...   \n",
       "1           [Read, on, for, important, info, below!]   \n",
       "2  [A, fun, application, for, activities, matchin...   \n",
       "3  [Discover, a, world, where, you, can, collect,...   \n",
       "4  [Start, with, a, free, Plane, in, your, centra...   \n",
       "\n",
       "                                                link  \\\n",
       "0  https://play.google.com/store/apps/details?id=...   \n",
       "1  https://play.google.com/store/apps/details?id=...   \n",
       "2  https://play.google.com/store/apps/details?id=...   \n",
       "3  https://play.google.com/store/apps/details?id=...   \n",
       "4  https://play.google.com/store/apps/details?id=...   \n",
       "\n",
       "                                                 img  \n",
       "0  https://play-lh.googleusercontent.com/yukxToYM...  \n",
       "1  https://play-lh.googleusercontent.com/RWzip8X5...  \n",
       "2  https://play-lh.googleusercontent.com/I7pIr1Ry...  \n",
       "3  https://play-lh.googleusercontent.com/QvCQJhwm...  \n",
       "4  https://play-lh.googleusercontent.com/cviX32mT...  "
      ]
     },
     "execution_count": 21,
     "metadata": {},
     "output_type": "execute_result"
    }
   ],
   "source": [
    "data.head()"
   ]
  },
  {
   "cell_type": "code",
   "execution_count": 22,
   "metadata": {},
   "outputs": [],
   "source": [
    "new_df=data[[\"title\",\"tags\",\"link\",\"img\"]]"
   ]
  },
  {
   "cell_type": "code",
   "execution_count": 23,
   "metadata": {},
   "outputs": [
    {
     "data": {
      "text/html": [
       "<div>\n",
       "<style scoped>\n",
       "    .dataframe tbody tr th:only-of-type {\n",
       "        vertical-align: middle;\n",
       "    }\n",
       "\n",
       "    .dataframe tbody tr th {\n",
       "        vertical-align: top;\n",
       "    }\n",
       "\n",
       "    .dataframe thead th {\n",
       "        text-align: right;\n",
       "    }\n",
       "</style>\n",
       "<table border=\"1\" class=\"dataframe\">\n",
       "  <thead>\n",
       "    <tr style=\"text-align: right;\">\n",
       "      <th></th>\n",
       "      <th>title</th>\n",
       "      <th>tags</th>\n",
       "      <th>link</th>\n",
       "      <th>img</th>\n",
       "    </tr>\n",
       "  </thead>\n",
       "  <tbody>\n",
       "    <tr>\n",
       "      <th>0</th>\n",
       "      <td>Passenger Delivery</td>\n",
       "      <td>Racing Pick up and deliver passengers to their...</td>\n",
       "      <td>https://play.google.com/store/apps/details?id=...</td>\n",
       "      <td>https://play-lh.googleusercontent.com/yukxToYM...</td>\n",
       "    </tr>\n",
       "    <tr>\n",
       "      <th>1</th>\n",
       "      <td>TSM</td>\n",
       "      <td>Simulation Life Social Casual Singleplayer Sty...</td>\n",
       "      <td>https://play.google.com/store/apps/details?id=...</td>\n",
       "      <td>https://play-lh.googleusercontent.com/RWzip8X5...</td>\n",
       "    </tr>\n",
       "    <tr>\n",
       "      <th>2</th>\n",
       "      <td>Dinosaurs Puzzles for Kids</td>\n",
       "      <td>Entertainment A fun application for activities...</td>\n",
       "      <td>https://play.google.com/store/apps/details?id=...</td>\n",
       "      <td>https://play-lh.googleusercontent.com/I7pIr1Ry...</td>\n",
       "    </tr>\n",
       "  </tbody>\n",
       "</table>\n",
       "</div>"
      ],
      "text/plain": [
       "                        title  \\\n",
       "0          Passenger Delivery   \n",
       "1                         TSM   \n",
       "2  Dinosaurs Puzzles for Kids   \n",
       "\n",
       "                                                tags  \\\n",
       "0  Racing Pick up and deliver passengers to their...   \n",
       "1  Simulation Life Social Casual Singleplayer Sty...   \n",
       "2  Entertainment A fun application for activities...   \n",
       "\n",
       "                                                link  \\\n",
       "0  https://play.google.com/store/apps/details?id=...   \n",
       "1  https://play.google.com/store/apps/details?id=...   \n",
       "2  https://play.google.com/store/apps/details?id=...   \n",
       "\n",
       "                                                 img  \n",
       "0  https://play-lh.googleusercontent.com/yukxToYM...  \n",
       "1  https://play-lh.googleusercontent.com/RWzip8X5...  \n",
       "2  https://play-lh.googleusercontent.com/I7pIr1Ry...  "
      ]
     },
     "execution_count": 23,
     "metadata": {},
     "output_type": "execute_result"
    }
   ],
   "source": [
    "new_df.head(3)"
   ]
  },
  {
   "cell_type": "markdown",
   "metadata": {},
   "source": [
    "# Buidling Model"
   ]
  },
  {
   "cell_type": "code",
   "execution_count": 24,
   "metadata": {},
   "outputs": [],
   "source": [
    "from nltk.stem.porter import  PorterStemmer"
   ]
  },
  {
   "cell_type": "code",
   "execution_count": 25,
   "metadata": {},
   "outputs": [],
   "source": [
    "ps=PorterStemmer()"
   ]
  },
  {
   "cell_type": "code",
   "execution_count": 26,
   "metadata": {},
   "outputs": [],
   "source": [
    "def stem(text):\n",
    "    y=[]\n",
    "    for i in text.split():\n",
    "        y.append(ps.stem(i))\n",
    "    return  \" \".join(y)"
   ]
  },
  {
   "cell_type": "code",
   "execution_count": 27,
   "metadata": {},
   "outputs": [
    {
     "name": "stderr",
     "output_type": "stream",
     "text": [
      "C:\\Users\\abdul\\AppData\\Local\\Temp\\ipykernel_5412\\417168261.py:1: SettingWithCopyWarning: \n",
      "A value is trying to be set on a copy of a slice from a DataFrame.\n",
      "Try using .loc[row_indexer,col_indexer] = value instead\n",
      "\n",
      "See the caveats in the documentation: https://pandas.pydata.org/pandas-docs/stable/user_guide/indexing.html#returning-a-view-versus-a-copy\n",
      "  data[\"tags\"]=data[\"tags\"].apply(stem)\n"
     ]
    }
   ],
   "source": [
    "data[\"tags\"]=data[\"tags\"].apply(stem)"
   ]
  },
  {
   "cell_type": "code",
   "execution_count": 28,
   "metadata": {},
   "outputs": [],
   "source": [
    "from sklearn.feature_extraction.text import CountVectorizer\n",
    "cv=CountVectorizer(max_features=10000,stop_words=\"english\")"
   ]
  },
  {
   "cell_type": "code",
   "execution_count": 29,
   "metadata": {},
   "outputs": [],
   "source": [
    "vectors=cv.fit_transform(new_df[\"tags\"]).toarray()"
   ]
  },
  {
   "cell_type": "code",
   "execution_count": 30,
   "metadata": {},
   "outputs": [
    {
     "data": {
      "text/plain": [
       "array([0, 0, 0, ..., 0, 0, 0])"
      ]
     },
     "execution_count": 30,
     "metadata": {},
     "output_type": "execute_result"
    }
   ],
   "source": [
    "vectors[0]"
   ]
  },
  {
   "cell_type": "code",
   "execution_count": 31,
   "metadata": {},
   "outputs": [],
   "source": [
    "from sklearn.metrics.pairwise import cosine_similarity"
   ]
  },
  {
   "cell_type": "code",
   "execution_count": 32,
   "metadata": {},
   "outputs": [],
   "source": [
    "similarty=cosine_similarity(vectors)"
   ]
  },
  {
   "cell_type": "code",
   "execution_count": 33,
   "metadata": {},
   "outputs": [
    {
     "data": {
      "text/plain": [
       "[(2161, np.float64(0.29417420270727607)),\n",
       " (3535, np.float64(0.2672612419124244)),\n",
       " (2224, np.float64(0.2581988897471611)),\n",
       " (1542, np.float64(0.25)),\n",
       " (3060, np.float64(0.2434097733076278))]"
      ]
     },
     "execution_count": 33,
     "metadata": {},
     "output_type": "execute_result"
    }
   ],
   "source": [
    "sorted(list(enumerate(similarty[0])),reverse=True,key=lambda x:x[1])[1:6]"
   ]
  },
  {
   "cell_type": "code",
   "execution_count": 34,
   "metadata": {},
   "outputs": [],
   "source": [
    "def recommend(movie):\n",
    "    \"\"\"Recommend movies based on the selected movie.\"\"\"\n",
    "    movie_index = data[data[\"title\"] == movie].index[0]\n",
    "    distances = similarty[movie_index]\n",
    "    # Get top 5 similar movies (excluding the selected movie)\n",
    "    recommended_movies = sorted(list(enumerate(distances)), reverse=True, key=lambda x: x[1])[1:6]\n",
    "    \n",
    "    titles, links, imgs = [], [], []\n",
    "    for index, _ in recommended_movies:\n",
    "        titles.append(data.iloc[index].title)\n",
    "        links.append(data.iloc[index].link)\n",
    "        imgs.append(data.iloc[index].img)\n",
    "\n",
    "    return titles, links, imgs"
   ]
  },
  {
   "cell_type": "code",
   "execution_count": 35,
   "metadata": {},
   "outputs": [
    {
     "data": {
      "text/plain": [
       "(['Free Fire MAX',\n",
       "  'Fishing Casino -  Arcade Game',\n",
       "  'World War Polygon: WW2 shooter',\n",
       "  'Infinity Ops: Cyberpunk FPS',\n",
       "  'FRAG Pro Shooter'],\n",
       " ['https://play.google.com/store/apps/details?id=com.dts.freefiremax',\n",
       "  'https://play.google.com/store/apps/details?id=com.golden.fishing.android.avidly',\n",
       "  'https://play.google.com/store/apps/details?id=com.aldagames.warpolygon',\n",
       "  'https://play.google.com/store/apps/details?id=com.gamedevltd.destinywarfare',\n",
       "  'https://play.google.com/store/apps/details?id=com.ohbibi.fps'],\n",
       " ['https://play-lh.googleusercontent.com/sqiP1qM7wG2bNZxazEogFapaGlhLWbYz_NI9BHCvNEe15mGtC0OYRQKYbdt_yD4pdSM=s48',\n",
       "  'https://play-lh.googleusercontent.com/bUTL3VyRwPQh1ZkYXliEiW3kqkGSbqArvdT9eGsKzheghiXpyaE2HbOWjXktTLrbmwk=s48',\n",
       "  'https://play-lh.googleusercontent.com/sY-k81h3zrzM2FMhs5MsxS9BOiYzKuU1QjpDV8fluFECKVzuAiMfq2Ul0cXydWajrFvX=s48',\n",
       "  'https://play-lh.googleusercontent.com/s1yj6Ryf6ZCkCp2f5i1I6AtAG55aViG2VolXW2Q-TMKLSBBE4KCMvidKsS4fn_0wLxo=s48',\n",
       "  'https://play-lh.googleusercontent.com/gmgKJ6Xo7tPKZo0LpmV8BqKR1PGI69qOyzOAN1pWSLWtF6disvTYMkWoi5URCe8uWcd_=s48'])"
      ]
     },
     "execution_count": 35,
     "metadata": {},
     "output_type": "execute_result"
    }
   ],
   "source": [
    "recommend(\"Free Fire\")"
   ]
  },
  {
   "cell_type": "markdown",
   "metadata": {},
   "source": [
    "# Exporting Model"
   ]
  },
  {
   "cell_type": "code",
   "execution_count": 36,
   "metadata": {},
   "outputs": [],
   "source": [
    "import pickle \n"
   ]
  },
  {
   "cell_type": "code",
   "execution_count": 37,
   "metadata": {},
   "outputs": [],
   "source": [
    "pickle.dump(data,open(\"moives.pkl\",\"wb\"))"
   ]
  },
  {
   "cell_type": "code",
   "execution_count": 38,
   "metadata": {},
   "outputs": [],
   "source": [
    "pickle.dump(similarty,open(\"similarty.pkl\",\"wb\"))"
   ]
  },
  {
   "cell_type": "code",
   "execution_count": null,
   "metadata": {},
   "outputs": [],
   "source": []
  },
  {
   "cell_type": "code",
   "execution_count": null,
   "metadata": {},
   "outputs": [],
   "source": []
  },
  {
   "cell_type": "code",
   "execution_count": null,
   "metadata": {},
   "outputs": [],
   "source": []
  }
 ],
 "metadata": {
  "kernelspec": {
   "display_name": ".venv",
   "language": "python",
   "name": "python3"
  },
  "language_info": {
   "codemirror_mode": {
    "name": "ipython",
    "version": 3
   },
   "file_extension": ".py",
   "mimetype": "text/x-python",
   "name": "python",
   "nbconvert_exporter": "python",
   "pygments_lexer": "ipython3",
   "version": "3.12.7"
  }
 },
 "nbformat": 4,
 "nbformat_minor": 2
}
